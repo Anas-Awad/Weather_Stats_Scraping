{
 "cells": [
  {
   "cell_type": "markdown",
   "metadata": {},
   "source": [
    "## Importing Libraries"
   ]
  },
  {
   "cell_type": "code",
   "execution_count": 2,
   "metadata": {},
   "outputs": [],
   "source": [
    "import csv \n",
    "import requests\n",
    "from bs4 import BeautifulSoup\n",
    "import pandas as pd\n",
    "from time import sleep\n",
    "from datetime import datetime"
   ]
  },
  {
   "cell_type": "markdown",
   "metadata": {},
   "source": [
    "## Get html code to scrape data"
   ]
  },
  {
   "cell_type": "code",
   "execution_count": 3,
   "metadata": {},
   "outputs": [],
   "source": [
    "req = requests.get('https://eg.freemeteo.com/weather/cairo/current-weather/location/?gid=360630&language=english&country=egypt').text"
   ]
  },
  {
   "cell_type": "code",
   "execution_count": 4,
   "metadata": {},
   "outputs": [],
   "source": [
    "soup = BeautifulSoup(req,'html.parser') ## contains the whole html code of the page"
   ]
  },
  {
   "cell_type": "code",
   "execution_count": 5,
   "metadata": {},
   "outputs": [],
   "source": [
    "# function that takes body html code and returns a list of temp,humidity,visibility,airP,windS,date,time\n",
    "def get_weather_data(body): \n",
    "    temp = body.find('div',{'class':'temp'}).text[:-2]\n",
    "    humidity = body.find('div',{'class':'stats'}).text.split()[2][:-1]\n",
    "    visibility = body.find('div',{'class':'stats'}).text.split()[6][:-1]\n",
    "    airP = body.find('div',{'class':'stats'}).text.split()[-1][:-2]\n",
    "    windS = body.find('span',{'class':'white'}).text.split()[1]\n",
    "    d = datetime.now()\n",
    "    date = str(d).split()[0]\n",
    "    time = str(d.hour) + ':' + str(d.minute)\n",
    "    return [temp,humidity,visibility,airP,windS,date,time]"
   ]
  },
  {
   "cell_type": "markdown",
   "metadata": {},
   "source": [
    "## Getting the temp,humidity,visibility,airP,windS,date,time each minute for 10 minutes."
   ]
  },
  {
   "cell_type": "code",
   "execution_count": 6,
   "metadata": {},
   "outputs": [],
   "source": [
    "f = open('weather stats.csv','w',newline='')\n",
    "writer = csv.writer(f)\n",
    "writer.writerow(['temperature', 'humidity', 'visibility', 'air pressure', 'wind speed', 'date','time'])\n",
    "for i in range(10):\n",
    "    writer.writerow(get_weather_data(soup.body))\n",
    "    sleep(60)\n",
    "f.close()"
   ]
  },
  {
   "cell_type": "markdown",
   "metadata": {},
   "source": [
    "## convert the file into excel file"
   ]
  },
  {
   "cell_type": "code",
   "execution_count": 7,
   "metadata": {},
   "outputs": [],
   "source": [
    "df = pd.read_csv('weather stats.csv')\n",
    "df.to_excel('weather stats.xlsx')"
   ]
  },
  {
   "cell_type": "markdown",
   "metadata": {},
   "source": [
    "## By Anas Awad"
   ]
  }
 ],
 "metadata": {
  "kernelspec": {
   "display_name": "Python 3",
   "language": "python",
   "name": "python3"
  },
  "language_info": {
   "codemirror_mode": {
    "name": "ipython",
    "version": 3
   },
   "file_extension": ".py",
   "mimetype": "text/x-python",
   "name": "python",
   "nbconvert_exporter": "python",
   "pygments_lexer": "ipython3",
   "version": "3.7.6"
  }
 },
 "nbformat": 4,
 "nbformat_minor": 4
}
